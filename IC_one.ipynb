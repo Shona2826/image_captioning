{
 "cells": [
  {
   "cell_type": "markdown",
   "metadata": {},
   "source": [
    "<h2> Do not run all the cells if you already have the files</h2>"
   ]
  },
  {
   "cell_type": "markdown",
   "metadata": {},
   "source": [
    "<h3> Importing libraries</h3>\n"
   ]
  },
  {
   "cell_type": "code",
   "execution_count": 2,
   "metadata": {},
   "outputs": [],
   "source": [
    "from os import listdir\n",
    "from pickle import dump\n",
    "from keras.applications.vgg16 import VGG16\n",
    "from keras.preprocessing.image import load_img\n",
    "from keras.preprocessing.image import img_to_array\n",
    "from keras.applications.vgg16 import preprocess_input\n",
    "from keras.models import Model\n",
    "from pickle import load"
   ]
  },
  {
   "cell_type": "markdown",
   "metadata": {},
   "source": [
    "<h3>Extract the features from each photo in our directory</h3>"
   ]
  },
  {
   "cell_type": "code",
   "execution_count": 8,
   "metadata": {},
   "outputs": [
    {
     "name": "stdout",
     "output_type": "stream",
     "text": [
      "<keras.layers.core.Dense object at 0x0000020E00AB19B0>\n"
     ]
    }
   ],
   "source": [
    "def extract_features(directory):\n",
    "    # load the model\n",
    "    model = VGG16()\n",
    "    # modify the model\n",
    "    model.layers.pop()\n",
    "    \"We dont need the last layer of  prediction layer\"\n",
    "    model = Model(inputs = model.inputs, outputs = model.layers[-1].output)\n",
    "    print(model.summary())\n",
    "    # Extracting features from each photo\n",
    "    features = dict()\n",
    "    for name in listdir(directory):\n",
    "        # load an image \n",
    "        filename = directory + '/' + name\n",
    "        image = load_img(filename, target_size(224,224))\n",
    "        # convert the image pixels to a numpy array\n",
    "        image = img_to_array(iamge)\n",
    "        # reshape the data for the model\n",
    "        image = image.reshape((1,image.shape[0], image.shape[1], image.shape[2]))\n",
    "        # prepare the image for the VGG model\n",
    "        image = preprocess_input(image)\n",
    "        # get the features\n",
    "        features = model.predict(image, verbose = 0)\n",
    "        # get image id\n",
    "        image_id = name.split('.')[0]\n",
    "        # store features\n",
    "        features[image_id] = feature\n",
    "        # showing the file names\n",
    "        print('--> %s ' % name)\n",
    "    return features\n",
    "\n",
    "# extract features from all images\n",
    "directory = 'YOUR DIRECTORY'\n",
    "features = extract_features(directory)\n",
    "print('extracted features len: %d' % len(features))\n",
    "# Save those to a file\n",
    "dump(features, open('features.pkl', 'wb'))    "
   ]
  },
  {
   "cell_type": "markdown",
   "metadata": {},
   "source": [
    "<h3>Preparing the Text Data</h3>"
   ]
  },
  {
   "cell_type": "code",
   "execution_count": null,
   "metadata": {},
   "outputs": [],
   "source": [
    "# Load the doc to memory\n",
    "def load_doc(filename):\n",
    "    # open the file as read only mode\n",
    "    file = open(filename, 'r')\n",
    "    # read all the texts\n",
    "    text = file.read()\n",
    "    # Close the file\n",
    "    file.Close()\n",
    "    return text\n",
    "\n",
    "filename = \"YOUR FILE NAME\"\n",
    "\n",
    "# load descriptions\n",
    "doc = load_doc(filename)"
   ]
  },
  {
   "cell_type": "code",
   "execution_count": null,
   "metadata": {},
   "outputs": [],
   "source": [
    "# Extract description for images\n",
    "def load_descriptions(doc):\n",
    "    mapping = dict()\n",
    "    # Process lines\n",
    "    for line in doc.split('\\n'):\n",
    "        # Split the line by whitespace\n",
    "        tokens = line.split()\n",
    "        if (len(line) < 2):\n",
    "            continue\n",
    "        # Take the first toekn as the image id, the rest as the description\n",
    "        image_id, image_desc = tokens[0], tokens[1:]\n",
    "        # Remove filename from image id\n",
    "        image_id = image_id.split('.')[0]\n",
    "        # Convert description tokens back to string\n",
    "        image_desc = ' '.join(image_desc)\n",
    "        # create the list if needed\n",
    "        if image_id not in mapping:\n",
    "            mapping[image_id] = list()\n",
    "        # store description\n",
    "        mapping[image_id].append(image_desc)\n",
    "    return mapping\n",
    "\n",
    "#Parse descriptinos\n",
    "descriptions = load_descriptions(doc)\n",
    "print('Loaded: %d ' % len(descriptions))\n",
    "    "
   ]
  },
  {
   "cell_type": "markdown",
   "metadata": {},
   "source": [
    "<h3>Next we need to clean the description text.</h3> <br>\n",
    "<p>Convert all the words to lowercase<br>\n",
    "Remove all punctuation<br>\n",
    "Remove all the words that are one character or less in length like 'a' <br>\n",
    "Remove all the words with numbers in them<br></p>"
   ]
  },
  {
   "cell_type": "code",
   "execution_count": null,
   "metadata": {},
   "outputs": [],
   "source": [
    "import string\n",
    "\n",
    "def clean_descriptions(descriptions):\n",
    "    # Prepare translation table for removing punctuation\n",
    "    table = str.maketrans('', '', string.punctuation)\n",
    "    for key, desc_list in descriptions.items():\n",
    "        for i in range(len(desc_list)):\n",
    "            desc = desc_list[i]\n",
    "            #tokenize\n",
    "            desc = desc.split()\n",
    "            #Convert to lower case\n",
    "            desc = [word.lower() for word in desc]\n",
    "            #Remove punctuation from each token\n",
    "            desc = [w.translate(table) for w in desc]\n",
    "            # Remove hanging 's' and 'a' \n",
    "            desc = [word for word in desc if len(word) > 1]\n",
    "            # Remove tokens with numbers in them\n",
    "            desc = [word for word in desc if word.isalpha()]\n",
    "            # Store as string\n",
    "            desc_list[i] = ' '.join(desc)\n",
    "    \n",
    "# Clean description\n",
    "clean_descriptions(descriptions)"
   ]
  },
  {
   "cell_type": "code",
   "execution_count": null,
   "metadata": {},
   "outputs": [],
   "source": [
    "# Lets find out the size of our vocabulary\n",
    "# means lets convert the loaded discriptions into a vocabulary of words\n",
    "def to_vocabulary(descriptions):\n",
    "    # Build a list of all desctiption strings\n",
    "    all_desc = set()\n",
    "    for key in descriptions.keys():\n",
    "        [all_desc.update(d.split()) for d in descriptions[key]]\n",
    "    return all_desc\n",
    "\n",
    "# Summarizing the vocabulary\n",
    "vocabulary = to_vocabulary(descriptions)\n",
    "print('Vocavulary Size : %d' % len(vocabulary))"
   ]
  },
  {
   "cell_type": "markdown",
   "metadata": {},
   "source": [
    "<h3>!! Do not run this cell if you already have the descriptions.txt file !! </h3>\n",
    "<p> It will take time to generate 'descriptions.txt' file</p>"
   ]
  },
  {
   "cell_type": "code",
   "execution_count": null,
   "metadata": {},
   "outputs": [],
   "source": [
    "# Saving our filtered image id and descriptions in a file\n",
    "def save_descriptions(descriptions, filename):\n",
    "    counter = 1\n",
    "    lines = list()\n",
    "    for key, desc_list in descriptions.items():\n",
    "        for desc in desc_list:\n",
    "            lines.append(key + ' ' + desc)\n",
    "        data = '\\n'.join(lines)\n",
    "        print(lines)\n",
    "        file = open(filename, 'w')\n",
    "        file.write(data)\n",
    "        file.close()\n",
    "# Saving descriptions\n",
    "save_descriptions(descriptions, 'descriptions.txt')"
   ]
  },
  {
   "cell_type": "markdown",
   "metadata": {},
   "source": [
    "<h2> Developing the Deep Learning Model </h2>"
   ]
  },
  {
   "cell_type": "code",
   "execution_count": 4,
   "metadata": {},
   "outputs": [
    {
     "name": "stderr",
     "output_type": "stream",
     "text": [
      "Using TensorFlow backend.\n"
     ]
    }
   ],
   "source": [
    "from numpy import array\n",
    "from pickle import load\n",
    "from keras.preprocessing.text import Tokenizer\n",
    "from keras.preprocessing.sequence import pad_sequences\n",
    "from keras.utils import to_categorical\n",
    "from keras.utils import plot_model\n",
    "from keras.models import Model\n",
    "from keras.layers import Input,Dense, LSTM, Embedding, Dropout,GRU\n",
    "from keras.layers.merge import add\n",
    "from keras.callbacks import ModelCheckpoint\n"
   ]
  },
  {
   "cell_type": "markdown",
   "metadata": {},
   "source": [
    "<h3> Loading the data</h3>"
   ]
  },
  {
   "cell_type": "code",
   "execution_count": null,
   "metadata": {},
   "outputs": [],
   "source": [
    "# Load doc to memory\n",
    "\n",
    "def load_doc(filename):\n",
    "    # open the file as read only\n",
    "    file = open(filename, 'r')\n",
    "    # read all the texts \n",
    "    text = file.read()\n",
    "    #Close the file\n",
    "    file.close()\n",
    "    return text\n",
    "\n",
    "# Load a pre-defined list of photo identifiers\n",
    "def load_set(filename):\n",
    "    doc = load_doc(filename)\n",
    "    dataset = list()\n",
    "    # Process line by line\n",
    "    for line in doc.split('\\n'):\n",
    "        # Skip empty lines\n",
    "        if (len(line) < 2):\n",
    "            continue\n",
    "        # Get image identifier\n",
    "        identifier = line.split('.')[0]\n",
    "        dataset.append(identifier)\n",
    "    return set(dataset)"
   ]
  },
  {
   "cell_type": "code",
   "execution_count": null,
   "metadata": {},
   "outputs": [],
   "source": [
    "# get the clean descriptions from our dataset\n",
    "def load_clean_descriptions(filename, dataset):\n",
    "    # Load the document\n",
    "    doc = load_doc(filename)\n",
    "    descriptions = dict()\n",
    "    for line in doc.split('\\n'):\n",
    "        # Split line by white space\n",
    "        tokens = line.split()\n",
    "        # Split id from desctiptions just like before\n",
    "        image_id, image_desc = tokens[0], tokens[1:]\n",
    "        # Skip images not in the set\n",
    "        if image_id in dataset:\n",
    "            # Create list\n",
    "            if image_id not in descriptions:\n",
    "                descriptions[image_id] = list()\n",
    "            # Wrap descriptions in tokens\n",
    "            desc = 'startseq' + ' '.join(image_desc) + ' endseq'\n",
    "            # Store \n",
    "            descriptions[image_id].append(desc)\n",
    "    return descriptions\n"
   ]
  },
  {
   "cell_type": "code",
   "execution_count": null,
   "metadata": {},
   "outputs": [],
   "source": [
    "# Load photo features\n",
    "def load_photo_features(filename, dataset):\n",
    "    # loading features\n",
    "    all_features = load(open(filename, 'rb'))\n",
    "    features = {k: all_features[k] for k in dataset}\n",
    "    return features"
   ]
  },
  {
   "cell_type": "code",
   "execution_count": null,
   "metadata": {},
   "outputs": [],
   "source": [
    "# Load training dataset\n",
    "\n",
    "filename= 'D:\\Ongoing work\\PROJECTS\\Image Captioning\\Flickr_8k.trainImages.txt'\n",
    "train = load_set(filename)\n",
    "print('Dataset: %d' % len(train))\n",
    "# Descriptions\n",
    "train_descriptions = load_clean_descriptions('descriptions.txt', train)\n",
    "print('Descriptions: Train=%d' % len(train_descriptions))\n",
    "# photo features\n",
    "train_features = load_photo_features('features.pkl', train)\n",
    "print('photos: train = %d ' %len(train_features))\n"
   ]
  },
  {
   "cell_type": "code",
   "execution_count": null,
   "metadata": {},
   "outputs": [],
   "source": [
    "# Convert a dictionary of clean descriptions to a list of descriptions\n",
    "from keras.preprocessing.text import Tokenizer\n",
    "\n",
    "def to_lines(descriptions):\n",
    "    all_desc = list()\n",
    "    for key in descriptions.keys():\n",
    "        [all_desc.append(d) for d in descriptions[key]]\n",
    "    return all_desc\n",
    "\n",
    "# Fit a tokenizer given caption descriptions \n",
    "def create_tokenizer(descriptions):\n",
    "    lines = to_lines(descriptions)\n",
    "    tokenizer = Tokenizer()\n",
    "    tokenizer.fit_on_texts(lines)\n",
    "    return tokenizer\n",
    "\n",
    "# Prepare tokenizer\n",
    "tokenizer = create_tokenizer(train_descriptions)\n",
    "vocab_size = len(tokenizer.word_index) + 1\n",
    "print('Vocabulary Size %d' % vocab_size)"
   ]
  },
  {
   "cell_type": "code",
   "execution_count": null,
   "metadata": {},
   "outputs": [],
   "source": [
    "# get the lenght of the description having max len\n",
    "def max_length(descriptions):\n",
    "    lines = to_lines(descriptions)\n",
    "    return max(len(d.split()) for d in lines)\n",
    "\n",
    "max_length = max_length(train_descriptions)\n",
    "print(max_length)"
   ]
  },
  {
   "cell_type": "markdown",
   "metadata": {},
   "source": [
    "<h4> Using data Generator for loading data to model</h4>"
   ]
  },
  {
   "cell_type": "code",
   "execution_count": null,
   "metadata": {},
   "outputs": [],
   "source": [
    "def data_generator(descriptions, photos, tokenizer, max_length):\n",
    "    # Loop over all images\n",
    "    while 1:\n",
    "        for key, desc_list in descriptions.items():\n",
    "            # getting the photo features\n",
    "            photo = photos[key][0]\n",
    "            in_img, in_seq, out_word = create_sequences(tokenizer, max_length, desc_list, photo)\n",
    "            yield [[in_img, in_seq], out_word]            \n",
    "            "
   ]
  },
  {
   "cell_type": "code",
   "execution_count": null,
   "metadata": {},
   "outputs": [],
   "source": [
    "# Creating sequences of image, input sequences and output words for an image\n",
    "def create_sequences(tokenizer, max_length, desc_list, photo):\n",
    "    X1, X2, y = list(), list(), list()\n",
    "    # walk through each description for the image\n",
    "    for desc in desc_list:\n",
    "        # Encode the sequence\n",
    "        seq = tokenizer.texts_to_sequences([desc])[0]\n",
    "        # Split one sequence into multiple X, y pairs\n",
    "        for i in range(1, len(seq)):\n",
    "            # Split into output and input pair\n",
    "            in_seq, out_seq = seq[:i], seq[i]\n",
    "            # Pad input sequence\n",
    "            in_seq = pad_sequences([in_seq], maxlen = max_length)[0]\n",
    "            # encode output sequenc\n",
    "            out_seq = to_categorical([out_seq], num_classes = vocab_size)[0]\n",
    "            # Store\n",
    "            X1.append(photo)\n",
    "            X2.append(in_seq)\n",
    "            y.append(out_seq)\n",
    "    return array(X1), array(X2), array(y)\n",
    "            \n",
    "    "
   ]
  },
  {
   "cell_type": "code",
   "execution_count": null,
   "metadata": {},
   "outputs": [],
   "source": [
    "# Testing the data generator\n",
    "generator = data_generator(train_descriptions, train_features, tokenizer, max_length)\n",
    "inputs, outputs = next(generator)\n",
    "print(inputs[0].shape)\n",
    "print(inputs[1].shape)\n",
    "print(outputs.shape)"
   ]
  },
  {
   "cell_type": "markdown",
   "metadata": {},
   "source": [
    "<h3> Defining the captioning model</h3>"
   ]
  },
  {
   "cell_type": "code",
   "execution_count": 2,
   "metadata": {},
   "outputs": [],
   "source": [
    "def define_model(vocab_size, max_length):\n",
    "    # feature extractor model\n",
    "    inputs1 = Input(shape=(4096,))\n",
    "    fe1 = Dropout(0.5)(Inputs1)\n",
    "    fe2 = Dense(256, activation = 'relu')(fe1)\n",
    "    # sequence model\n",
    "    inputs2 = Input(shape=(max_length))\n",
    "    se1 = Embedding(vocab_size, 256, mask_zero = True)(inputs2)\n",
    "    se2 = Dropout(0.5)(se1)\n",
    "    se3 = LSTM(256)(se2)\n",
    "    # Decoder model\n",
    "    decoder1 = add([fe2, se3])\n",
    "    decoder2 = Dense(256, activation = 'relu')(decoder1)\n",
    "    outputs = Dense(vocab_size, activation= 'softmax')(decoder2)\n",
    "    # adding it together [img, seq][word]\n",
    "    model = Model(inputs=[inputs1, inputs2], outputs= outputs)\n",
    "    # compile the model\n",
    "    model.compile(loss = 'categorical_crossentropy', optimizer = 'adam')\n",
    "    # summarize model\n",
    "    model.summary()\n",
    "    return model"
   ]
  },
  {
   "cell_type": "code",
   "execution_count": null,
   "metadata": {},
   "outputs": [],
   "source": [
    "# load training dataset (6K)\n",
    "filename = 'D:\\Ongoing work\\PROJECTS\\Image Captioning\\Flickr_8k.trainImages.txt'\n",
    "train = load_set(filename)\n",
    "print('Dataset: %d' % len(train))\n",
    "# descriptions\n",
    "train_descriptions = load_clean_descriptions('descriptions.txt', train)\n",
    "print('Descriptions: train=%d' % len(train_descriptions))\n",
    "# photo features\n",
    "train_features = load_photo_features('features.pkl', train)\n",
    "print('Photos: train=%d' % len(train_features))\n",
    "# prepare tokenizer\n",
    "tokenizer = create_tokenizer(train_descriptions)\n",
    "vocab_size = len(tokenizer.word_index) + 1\n",
    "print('Vocabulary Size: %d' % vocab_size)\n",
    "# determine the maximum sequence length\n",
    "print(max_length)"
   ]
  },
  {
   "cell_type": "code",
   "execution_count": null,
   "metadata": {},
   "outputs": [],
   "source": [
    "# Fit the training model and dump its parameters\n",
    "\n",
    "# define the model\n",
    "model = define_model(vocab_size, max_length)\n",
    "# train the model, run epochs manually and save after each epoch\n",
    "epochs = 20\n",
    "steps = len(train_descriptions)\n",
    "for i in range(epochs):\n",
    "    # create the data generator\n",
    "    generator = data_generator(train_descriptions, train_features, tokenizer, max_length)\n",
    "    # fit for one epoch\n",
    "    model.fit_generator(generator, epochs=1, steps_per_epoch=steps, verbose=1)\n",
    "    # save model\n",
    "    model.save('model_' + str(i) + '.h5')"
   ]
  },
  {
   "cell_type": "markdown",
   "metadata": {},
   "source": [
    "<h3>Evaluate the model</h3>"
   ]
  },
  {
   "cell_type": "code",
   "execution_count": 8,
   "metadata": {},
   "outputs": [],
   "source": [
    "# mapping an integer to a word (opposite of tokenization)\n",
    "def word_for_id(integer, tokenizer):\n",
    "    for word, index in tokenizer.word_index.items():\n",
    "        if index == integer:\n",
    "            return word\n",
    "    return None\n"
   ]
  },
  {
   "cell_type": "code",
   "execution_count": null,
   "metadata": {},
   "outputs": [],
   "source": [
    "# generating a description for an image\n",
    "def generate_desc(model, tokenizer, photo, max_length):\n",
    "    # seed the generation process\n",
    "    in_text = 'startseq'\n",
    "    # iterate over the whole length of sequence\n",
    "    for i in range(max_length):\n",
    "        # integer encode input sequence\n",
    "        sequence = pad_sequences([sequence], maxlen= max_length)\n",
    "        # predict next word\n",
    "        yhat = model.predict([photo, sequence], verbose = 0)\n",
    "        # convert probability to integer\n",
    "        yhat = argmax(yhat)\n",
    "        # map integer to word\n",
    "        word = word_for_id(yhat, tokenizer)\n",
    "        # stop if cannot map the word\n",
    "        if word is None:\n",
    "            break\n",
    "    return in_text   "
   ]
  },
  {
   "cell_type": "markdown",
   "metadata": {},
   "source": [
    "<h3>Using BLEU Score to evaluate the model</h3>"
   ]
  },
  {
   "cell_type": "code",
   "execution_count": 10,
   "metadata": {},
   "outputs": [],
   "source": [
    "def evaluate_model(model, descriptions, photos, tokenizer, max_length):\n",
    "    actual, predicted = list(), list()\n",
    "    count = 1 # just to see the progress\n",
    "    # go through the whole set\n",
    "    for key, desc_list in description.items():\n",
    "        print(count)\n",
    "        # generate descriptions\n",
    "        yhat = generate_desc(model, tokenizer, photos[key], max_length)\n",
    "        # store actual and predicted\n",
    "        original_desc = [d.split() for d in desc_list]\n",
    "        actual.append(original_desc)\n",
    "        predicted.append(yhat.split())\n",
    "        count += 1\n",
    "    # Calculating the BLUE score\n",
    "    # Calculating bleu score\n",
    "    print('BLEU-1 :-> %f ' %corpus_bleu(actual, predicted, weights = (1.0,0,0,0)))\n",
    "    print('BLEU-2 :-> %f ' %corpus_bleu(actual, predicted, weights = (0.5,0.5,0,0)))\n",
    "    print('BLEU-3 :-> %f ' %corpus_bleu(actual, predicted, weights = (0.3,0.3,0.3,0)))\n",
    "    print('BLEU-4 :-> %f ' %corpus_bleu(actual, predicted, weights = (0.25,0.25,0.25,0.25)))"
   ]
  },
  {
   "cell_type": "code",
   "execution_count": null,
   "metadata": {},
   "outputs": [],
   "source": []
  },
  {
   "cell_type": "code",
   "execution_count": null,
   "metadata": {},
   "outputs": [],
   "source": [
    "filename = 'D:\\Ongoing work\\PROJECTS\\Image Captioning\\Flickr_8k.testImages.txt'\n",
    "test = load_set(filename)\n",
    "small_test = set(itertools.islice(test, 100))\n",
    "print('Data set : %d' % len(small_test))\n",
    "# descriptions\n",
    "test_descriptions = load_clean_descriptions('descriptions.txt', small_test)\n",
    "print('Descriptions: test= %d' % len(test_descriptions))\n",
    "# photo features\n",
    "test_features = load_photo_features('features.pkl', small_test)\n",
    "print('Photos: test= %d' % len(test_features))\n",
    "\n",
    "\n",
    "# load the model\n",
    "filename = 'D:\\Ongoing work\\PROJECTS\\Image Captioning\\model_19.h5'\n",
    "\n",
    "model = load_model(filename)\n",
    "# evaluate model\n",
    "evaluate_model(model, test_descriptions, test_features, tokenizer, max_length)\n",
    "\n"
   ]
  },
  {
   "cell_type": "code",
   "execution_count": null,
   "metadata": {},
   "outputs": [],
   "source": [
    "from keras.preprocessing.text import Tokenizer\n",
    "from pickle import dump"
   ]
  },
  {
   "cell_type": "code",
   "execution_count": null,
   "metadata": {},
   "outputs": [],
   "source": [
    "# Convert a dictionary of clean descriptions to a list of descriptions\n",
    "def to_lines(descriptions):\n",
    "    all_desc = list()\n",
    "    for key in descriptions.keys():\n",
    "        [all_desc.append(d) for d in descriptions[key]]\n",
    "    return all_desc\n",
    "\n",
    "# fit a tokenizer given caption descriptions\n",
    "def create_tokenizer(descriptions):\n",
    "    lines = to_lines(descriptions)\n",
    "    tokenizer = Tokenizer()\n",
    "    tokenizer.fit_on_texts(lines)\n",
    "    return tokenizer"
   ]
  },
  {
   "cell_type": "code",
   "execution_count": null,
   "metadata": {},
   "outputs": [],
   "source": [
    "# Loading the training dataset\n",
    "filename = 'D:\\Ongoing work\\PROJECTS\\Image Captioning\\Flickr_8k.trainImages.txt'\n",
    "train = load_set(filename)\n",
    "print('Dataset : %d' %len(train))\n",
    "# descriptions\n",
    "train_descriptions = load_clean_descriptions('descriptions.txt', train)\n",
    "print('descriptions: train: %d' % len(train_descriptions))\n",
    "#prepare tokenizer\n",
    "tokenizer = create_tokenizer(train_descriptions)\n",
    "# save the tokenizer\n",
    "dump(tokenizer, open('tokenizer.pkl', 'wb'))"
   ]
  },
  {
   "cell_type": "code",
   "execution_count": null,
   "metadata": {},
   "outputs": [],
   "source": []
  },
  {
   "cell_type": "code",
   "execution_count": null,
   "metadata": {},
   "outputs": [],
   "source": []
  }
 ],
 "metadata": {
  "kernelspec": {
   "display_name": "Python 3",
   "language": "python",
   "name": "python3"
  },
  "language_info": {
   "codemirror_mode": {
    "name": "ipython",
    "version": 3
   },
   "file_extension": ".py",
   "mimetype": "text/x-python",
   "name": "python",
   "nbconvert_exporter": "python",
   "pygments_lexer": "ipython3",
   "version": "3.6.5"
  }
 },
 "nbformat": 4,
 "nbformat_minor": 2
}
